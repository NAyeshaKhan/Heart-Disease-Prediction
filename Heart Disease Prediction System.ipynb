{
 "cells": [
  {
   "cell_type": "code",
   "execution_count": 2,
   "id": "04497159",
   "metadata": {},
   "outputs": [
    {
     "data": {
      "text/html": [
       "<div>\n",
       "<style scoped>\n",
       "    .dataframe tbody tr th:only-of-type {\n",
       "        vertical-align: middle;\n",
       "    }\n",
       "\n",
       "    .dataframe tbody tr th {\n",
       "        vertical-align: top;\n",
       "    }\n",
       "\n",
       "    .dataframe thead th {\n",
       "        text-align: right;\n",
       "    }\n",
       "</style>\n",
       "<table border=\"1\" class=\"dataframe\">\n",
       "  <thead>\n",
       "    <tr style=\"text-align: right;\">\n",
       "      <th></th>\n",
       "      <th>HeartDisease</th>\n",
       "      <th>BMI</th>\n",
       "      <th>Smoking</th>\n",
       "      <th>AlcoholDrinking</th>\n",
       "      <th>Stroke</th>\n",
       "      <th>PhysicalHealth</th>\n",
       "      <th>MentalHealth</th>\n",
       "      <th>DiffWalking</th>\n",
       "      <th>Sex</th>\n",
       "      <th>AgeCategory</th>\n",
       "      <th>Race</th>\n",
       "      <th>Diabetic</th>\n",
       "      <th>PhysicalActivity</th>\n",
       "      <th>GenHealth</th>\n",
       "      <th>SleepTime</th>\n",
       "      <th>Asthma</th>\n",
       "      <th>KidneyDisease</th>\n",
       "      <th>SkinCancer</th>\n",
       "    </tr>\n",
       "  </thead>\n",
       "  <tbody>\n",
       "    <tr>\n",
       "      <th>0</th>\n",
       "      <td>No</td>\n",
       "      <td>16.60</td>\n",
       "      <td>Yes</td>\n",
       "      <td>No</td>\n",
       "      <td>No</td>\n",
       "      <td>3</td>\n",
       "      <td>30</td>\n",
       "      <td>No</td>\n",
       "      <td>Female</td>\n",
       "      <td>55-59</td>\n",
       "      <td>White</td>\n",
       "      <td>Yes</td>\n",
       "      <td>Yes</td>\n",
       "      <td>Very good</td>\n",
       "      <td>5</td>\n",
       "      <td>Yes</td>\n",
       "      <td>No</td>\n",
       "      <td>Yes</td>\n",
       "    </tr>\n",
       "    <tr>\n",
       "      <th>1</th>\n",
       "      <td>No</td>\n",
       "      <td>20.34</td>\n",
       "      <td>No</td>\n",
       "      <td>No</td>\n",
       "      <td>Yes</td>\n",
       "      <td>0</td>\n",
       "      <td>0</td>\n",
       "      <td>No</td>\n",
       "      <td>Female</td>\n",
       "      <td>80 or older</td>\n",
       "      <td>White</td>\n",
       "      <td>No</td>\n",
       "      <td>Yes</td>\n",
       "      <td>Very good</td>\n",
       "      <td>7</td>\n",
       "      <td>No</td>\n",
       "      <td>No</td>\n",
       "      <td>No</td>\n",
       "    </tr>\n",
       "    <tr>\n",
       "      <th>2</th>\n",
       "      <td>No</td>\n",
       "      <td>26.58</td>\n",
       "      <td>Yes</td>\n",
       "      <td>No</td>\n",
       "      <td>No</td>\n",
       "      <td>20</td>\n",
       "      <td>30</td>\n",
       "      <td>No</td>\n",
       "      <td>Male</td>\n",
       "      <td>65-69</td>\n",
       "      <td>White</td>\n",
       "      <td>Yes</td>\n",
       "      <td>Yes</td>\n",
       "      <td>Fair</td>\n",
       "      <td>8</td>\n",
       "      <td>Yes</td>\n",
       "      <td>No</td>\n",
       "      <td>No</td>\n",
       "    </tr>\n",
       "    <tr>\n",
       "      <th>3</th>\n",
       "      <td>No</td>\n",
       "      <td>24.21</td>\n",
       "      <td>No</td>\n",
       "      <td>No</td>\n",
       "      <td>No</td>\n",
       "      <td>0</td>\n",
       "      <td>0</td>\n",
       "      <td>No</td>\n",
       "      <td>Female</td>\n",
       "      <td>75-79</td>\n",
       "      <td>White</td>\n",
       "      <td>No</td>\n",
       "      <td>No</td>\n",
       "      <td>Good</td>\n",
       "      <td>6</td>\n",
       "      <td>No</td>\n",
       "      <td>No</td>\n",
       "      <td>Yes</td>\n",
       "    </tr>\n",
       "    <tr>\n",
       "      <th>4</th>\n",
       "      <td>No</td>\n",
       "      <td>23.71</td>\n",
       "      <td>No</td>\n",
       "      <td>No</td>\n",
       "      <td>No</td>\n",
       "      <td>28</td>\n",
       "      <td>0</td>\n",
       "      <td>Yes</td>\n",
       "      <td>Female</td>\n",
       "      <td>40-44</td>\n",
       "      <td>White</td>\n",
       "      <td>No</td>\n",
       "      <td>Yes</td>\n",
       "      <td>Very good</td>\n",
       "      <td>8</td>\n",
       "      <td>No</td>\n",
       "      <td>No</td>\n",
       "      <td>No</td>\n",
       "    </tr>\n",
       "  </tbody>\n",
       "</table>\n",
       "</div>"
      ],
      "text/plain": [
       "  HeartDisease    BMI Smoking AlcoholDrinking Stroke  PhysicalHealth  \\\n",
       "0           No  16.60     Yes              No     No               3   \n",
       "1           No  20.34      No              No    Yes               0   \n",
       "2           No  26.58     Yes              No     No              20   \n",
       "3           No  24.21      No              No     No               0   \n",
       "4           No  23.71      No              No     No              28   \n",
       "\n",
       "   MentalHealth DiffWalking     Sex  AgeCategory   Race Diabetic  \\\n",
       "0            30          No  Female        55-59  White      Yes   \n",
       "1             0          No  Female  80 or older  White       No   \n",
       "2            30          No    Male        65-69  White      Yes   \n",
       "3             0          No  Female        75-79  White       No   \n",
       "4             0         Yes  Female        40-44  White       No   \n",
       "\n",
       "  PhysicalActivity  GenHealth  SleepTime Asthma KidneyDisease SkinCancer  \n",
       "0              Yes  Very good          5    Yes            No        Yes  \n",
       "1              Yes  Very good          7     No            No         No  \n",
       "2              Yes       Fair          8    Yes            No         No  \n",
       "3               No       Good          6     No            No        Yes  \n",
       "4              Yes  Very good          8     No            No         No  "
      ]
     },
     "execution_count": 2,
     "metadata": {},
     "output_type": "execute_result"
    }
   ],
   "source": [
    "import pandas as pd\n",
    "import numpy as np\n",
    "import seaborn as sns\n",
    "import pickle\n",
    "\n",
    "from matplotlib import pyplot as plt\n",
    "from sklearn.tree import DecisionTreeClassifier\n",
    "from sklearn import tree\n",
    "from sklearn.model_selection import train_test_split\n",
    "from sklearn.impute import SimpleImputer\n",
    "\n",
    "df=pd.read_csv('heart_2020_cleaned.csv')\n",
    "df.head()"
   ]
  },
  {
   "cell_type": "code",
   "execution_count": 3,
   "id": "0643dd6f",
   "metadata": {},
   "outputs": [
    {
     "data": {
      "text/html": [
       "<div>\n",
       "<style scoped>\n",
       "    .dataframe tbody tr th:only-of-type {\n",
       "        vertical-align: middle;\n",
       "    }\n",
       "\n",
       "    .dataframe tbody tr th {\n",
       "        vertical-align: top;\n",
       "    }\n",
       "\n",
       "    .dataframe thead th {\n",
       "        text-align: right;\n",
       "    }\n",
       "</style>\n",
       "<table border=\"1\" class=\"dataframe\">\n",
       "  <thead>\n",
       "    <tr style=\"text-align: right;\">\n",
       "      <th></th>\n",
       "      <th>BMI</th>\n",
       "      <th>PhysicalHealth</th>\n",
       "      <th>MentalHealth</th>\n",
       "      <th>SleepTime</th>\n",
       "    </tr>\n",
       "  </thead>\n",
       "  <tbody>\n",
       "    <tr>\n",
       "      <th>count</th>\n",
       "      <td>319795.000000</td>\n",
       "      <td>319795.00000</td>\n",
       "      <td>319795.000000</td>\n",
       "      <td>319795.000000</td>\n",
       "    </tr>\n",
       "    <tr>\n",
       "      <th>mean</th>\n",
       "      <td>28.325399</td>\n",
       "      <td>3.37171</td>\n",
       "      <td>3.898366</td>\n",
       "      <td>7.097075</td>\n",
       "    </tr>\n",
       "    <tr>\n",
       "      <th>std</th>\n",
       "      <td>6.356100</td>\n",
       "      <td>7.95085</td>\n",
       "      <td>7.955235</td>\n",
       "      <td>1.436007</td>\n",
       "    </tr>\n",
       "    <tr>\n",
       "      <th>min</th>\n",
       "      <td>12.020000</td>\n",
       "      <td>0.00000</td>\n",
       "      <td>0.000000</td>\n",
       "      <td>1.000000</td>\n",
       "    </tr>\n",
       "    <tr>\n",
       "      <th>25%</th>\n",
       "      <td>24.030000</td>\n",
       "      <td>0.00000</td>\n",
       "      <td>0.000000</td>\n",
       "      <td>6.000000</td>\n",
       "    </tr>\n",
       "    <tr>\n",
       "      <th>50%</th>\n",
       "      <td>27.340000</td>\n",
       "      <td>0.00000</td>\n",
       "      <td>0.000000</td>\n",
       "      <td>7.000000</td>\n",
       "    </tr>\n",
       "    <tr>\n",
       "      <th>75%</th>\n",
       "      <td>31.420000</td>\n",
       "      <td>2.00000</td>\n",
       "      <td>3.000000</td>\n",
       "      <td>8.000000</td>\n",
       "    </tr>\n",
       "    <tr>\n",
       "      <th>max</th>\n",
       "      <td>94.850000</td>\n",
       "      <td>30.00000</td>\n",
       "      <td>30.000000</td>\n",
       "      <td>24.000000</td>\n",
       "    </tr>\n",
       "  </tbody>\n",
       "</table>\n",
       "</div>"
      ],
      "text/plain": [
       "                 BMI  PhysicalHealth   MentalHealth      SleepTime\n",
       "count  319795.000000    319795.00000  319795.000000  319795.000000\n",
       "mean       28.325399         3.37171       3.898366       7.097075\n",
       "std         6.356100         7.95085       7.955235       1.436007\n",
       "min        12.020000         0.00000       0.000000       1.000000\n",
       "25%        24.030000         0.00000       0.000000       6.000000\n",
       "50%        27.340000         0.00000       0.000000       7.000000\n",
       "75%        31.420000         2.00000       3.000000       8.000000\n",
       "max        94.850000        30.00000      30.000000      24.000000"
      ]
     },
     "execution_count": 3,
     "metadata": {},
     "output_type": "execute_result"
    }
   ],
   "source": [
    "#Mean, std, and quartiles of dataset\n",
    "df.describe()"
   ]
  },
  {
   "cell_type": "code",
   "execution_count": 4,
   "id": "51e9dae3",
   "metadata": {},
   "outputs": [],
   "source": [
    "#df=df[['BMI','Sex','AgeCategory','Race','PhysicalHealth','Smoking','Diabetic','HeartDisease']]\n",
    "#df"
   ]
  },
  {
   "cell_type": "code",
   "execution_count": 5,
   "id": "7123a744",
   "metadata": {},
   "outputs": [
    {
     "name": "stdout",
     "output_type": "stream",
     "text": [
      "Number of null values:\n",
      "<class 'pandas.core.frame.DataFrame'>\n",
      "RangeIndex: 319795 entries, 0 to 319794\n",
      "Data columns (total 18 columns):\n",
      " #   Column            Non-Null Count   Dtype  \n",
      "---  ------            --------------   -----  \n",
      " 0   HeartDisease      319795 non-null  object \n",
      " 1   BMI               319795 non-null  float64\n",
      " 2   Smoking           319795 non-null  object \n",
      " 3   AlcoholDrinking   319795 non-null  object \n",
      " 4   Stroke            319795 non-null  object \n",
      " 5   PhysicalHealth    319795 non-null  int64  \n",
      " 6   MentalHealth      319795 non-null  int64  \n",
      " 7   DiffWalking       319795 non-null  object \n",
      " 8   Sex               319795 non-null  object \n",
      " 9   AgeCategory       319795 non-null  object \n",
      " 10  Race              319795 non-null  object \n",
      " 11  Diabetic          319795 non-null  object \n",
      " 12  PhysicalActivity  319795 non-null  object \n",
      " 13  GenHealth         319795 non-null  object \n",
      " 14  SleepTime         319795 non-null  int64  \n",
      " 15  Asthma            319795 non-null  object \n",
      " 16  KidneyDisease     319795 non-null  object \n",
      " 17  SkinCancer        319795 non-null  object \n",
      "dtypes: float64(1), int64(3), object(14)\n",
      "memory usage: 43.9+ MB\n"
     ]
    }
   ],
   "source": [
    "#Checking for null values to fill\n",
    "print(\"Number of null values:\")\n",
    "df.info()"
   ]
  },
  {
   "cell_type": "code",
   "execution_count": 6,
   "id": "19bd0fd0",
   "metadata": {},
   "outputs": [
    {
     "name": "stdout",
     "output_type": "stream",
     "text": [
      "HeartDisease : ['No' 'Yes']\n",
      "BMI : [16.6  20.34 26.58 ... 62.42 51.46 46.56]\n",
      "Smoking : ['Yes' 'No']\n",
      "AlcoholDrinking : ['No' 'Yes']\n",
      "Stroke : ['No' 'Yes']\n",
      "PhysicalHealth : [ 3  0 20 28  6 15  5 30  7  1  2 21  4 10 14 18  8 25 16 29 27 17 24 12\n",
      " 23 26 22 19  9 13 11]\n",
      "MentalHealth : [30  0  2  5 15  8  4  3 10 14 20  1  7 24  9 28 16 12  6 25 17 18 21 29\n",
      " 22 13 23 27 26 11 19]\n",
      "DiffWalking : ['No' 'Yes']\n",
      "Sex : ['Female' 'Male']\n",
      "AgeCategory : ['55-59' '80 or older' '65-69' '75-79' '40-44' '70-74' '60-64' '50-54'\n",
      " '45-49' '18-24' '35-39' '30-34' '25-29']\n",
      "Race : ['White' 'Black' 'Asian' 'American Indian/Alaskan Native' 'Other'\n",
      " 'Hispanic']\n",
      "Diabetic : ['Yes' 'No' 'No, borderline diabetes' 'Yes (during pregnancy)']\n",
      "PhysicalActivity : ['Yes' 'No']\n",
      "GenHealth : ['Very good' 'Fair' 'Good' 'Poor' 'Excellent']\n",
      "SleepTime : [ 5  7  8  6 12  4  9 10 15  3  2  1 16 18 14 20 11 13 17 24 19 21 22 23]\n",
      "Asthma : ['Yes' 'No']\n",
      "KidneyDisease : ['No' 'Yes']\n",
      "SkinCancer : ['Yes' 'No']\n"
     ]
    }
   ],
   "source": [
    "#Checking number of unique values and wrong entries like symbols -,?,#,*,etc.\n",
    "for col in df.columns:\n",
    "    print('{} : {}'.format(col,df[col].unique()))"
   ]
  },
  {
   "cell_type": "code",
   "execution_count": 7,
   "id": "9aad89e5",
   "metadata": {},
   "outputs": [
    {
     "name": "stdout",
     "output_type": "stream",
     "text": [
      "Data after dropping empty columns:\n",
      "(319795, 18)\n"
     ]
    }
   ],
   "source": [
    "#Dropping empty columns\n",
    "df = df.dropna(axis='columns', how='all')\n",
    "\n",
    "print(\"Data after dropping empty columns:\")\n",
    "print(df.shape)"
   ]
  },
  {
   "cell_type": "code",
   "execution_count": 8,
   "id": "2979177c",
   "metadata": {},
   "outputs": [
    {
     "name": "stdout",
     "output_type": "stream",
     "text": [
      "     HeartDisease\n",
      "No          91.44\n",
      "Yes          8.56\n"
     ]
    },
    {
     "data": {
      "text/plain": [
       "<AxesSubplot:>"
      ]
     },
     "execution_count": 8,
     "metadata": {},
     "output_type": "execute_result"
    },
    {
     "data": {
      "image/png": "[encoded data removed]",
      "text/plain": [
       "<Figure size 432x288 with 1 Axes>"
      ]
     },
     "metadata": {
      "needs_background": "light"
     },
     "output_type": "display_data"
    }
   ],
   "source": [
    "#Percentages and bar chart\n",
    "print(pd.DataFrame(round((df['HeartDisease'].value_counts()/df.shape[0]*100),2)))\n",
    "(df['HeartDisease'].value_counts()/df.shape[0]).plot(kind = 'bar', color = 'powderblue')"
   ]
  },
  {
   "cell_type": "code",
   "execution_count": 9,
   "id": "2af6ee3b",
   "metadata": {
    "scrolled": true
   },
   "outputs": [
    {
     "data": {
      "text/plain": [
       "<AxesSubplot:>"
      ]
     },
     "execution_count": 9,
     "metadata": {},
     "output_type": "execute_result"
    },
    {
     "data": {
      "image/png": "[encoded data removed]",
      "text/plain": [
       "<Figure size 720x360 with 1 Axes>"
      ]
     },
     "metadata": {
      "needs_background": "light"
     },
     "output_type": "display_data"
    }
   ],
   "source": [
    "df['BMI'].hist(bins = 50, color = 'powderblue', figsize = (10,5))\n"
   ]
  },
  {
   "cell_type": "code",
   "execution_count": 10,
   "id": "67026fda",
   "metadata": {
    "scrolled": true
   },
   "outputs": [
    {
     "data": {
      "image/png": "[encoded data removed]",
      "text/plain": [
       "<Figure size 432x288 with 1 Axes>"
      ]
     },
     "metadata": {},
     "output_type": "display_data"
    }
   ],
   "source": [
    "#Distribution of gender by pie-chart\n",
    "df['Sex'].value_counts().plot(kind=\"pie\", autopct=\"%.2f\", colors = ['pink', '#94d2bd'])\n",
    "plt.show()"
   ]
  },
  {
   "cell_type": "code",
   "execution_count": 11,
   "id": "ca868b64",
   "metadata": {},
   "outputs": [
    {
     "name": "stdout",
     "output_type": "stream",
     "text": [
      "['Smoking', 'AlcoholDrinking', 'Stroke', 'DiffWalking', 'PhysicalActivity', 'Asthma', 'KidneyDisease', 'SkinCancer']\n"
     ]
    },
    {
     "data": {
      "text/plain": [
       "8"
      ]
     },
     "execution_count": 11,
     "metadata": {},
     "output_type": "execute_result"
    }
   ],
   "source": [
    "#Number of columns that have Yes/No as output\n",
    "Yes_No_Columns = [column for column in df.columns if (len(df[column].value_counts()) == 2)]\n",
    "Yes_No_Columns.remove('HeartDisease')\n",
    "Yes_No_Columns.remove('Sex')\n",
    "print(Yes_No_Columns)\n",
    "len(Yes_No_Columns)\n"
   ]
  },
  {
   "cell_type": "code",
   "execution_count": 12,
   "id": "9c0adf1c",
   "metadata": {},
   "outputs": [
    {
     "data": {
      "image/png": "[encoded data removed]",
      "text/plain": [
       "<Figure size 1080x576 with 8 Axes>"
      ]
     },
     "metadata": {
      "needs_background": "light"
     },
     "output_type": "display_data"
    }
   ],
   "source": [
    "#Plot a barchart for each of these columns\n",
    "fig, axes = plt.subplots(nrows=2, ncols=4, sharey = True, figsize = (15,8))\n",
    "plt.subplots_adjust(hspace = 0.3)\n",
    "for Column in Yes_No_Columns:\n",
    "    row_n= int((Yes_No_Columns.index(Column) - Yes_No_Columns.index(Column) % 4)/4)\n",
    "    column_n = Yes_No_Columns.index(Column) % 4\n",
    "    (df[Column].value_counts()/df.shape[0]).plot(kind = 'bar', ax = axes[row_n,column_n], title = Column, color = 'cornflowerblue')"
   ]
  },
  {
   "cell_type": "code",
   "execution_count": 13,
   "id": "97ffec0e",
   "metadata": {},
   "outputs": [
    {
     "data": {
      "text/plain": [
       "<AxesSubplot:>"
      ]
     },
     "execution_count": 13,
     "metadata": {},
     "output_type": "execute_result"
    },
    {
     "data": {
      "image/png": "[encoded data removed]",
      "text/plain": [
       "<Figure size 432x288 with 1 Axes>"
      ]
     },
     "metadata": {
      "needs_background": "light"
     },
     "output_type": "display_data"
    }
   ],
   "source": [
    "df['SleepTime'].hist(bins = 15, color = 'lightpink')"
   ]
  },
  {
   "cell_type": "code",
   "execution_count": 14,
   "id": "0d0da645",
   "metadata": {
    "scrolled": true
   },
   "outputs": [
    {
     "data": {
      "text/plain": [
       "<AxesSubplot:>"
      ]
     },
     "execution_count": 14,
     "metadata": {},
     "output_type": "execute_result"
    },
    {
     "data": {
      "image/png": "[encoded data removed]",
      "text/plain": [
       "<Figure size 432x288 with 1 Axes>"
      ]
     },
     "metadata": {
      "needs_background": "light"
     },
     "output_type": "display_data"
    }
   ],
   "source": [
    "df['PhysicalHealth'].hist(bins = 30, color = 'salmon')"
   ]
  },
  {
   "cell_type": "code",
   "execution_count": 15,
   "id": "343608d0",
   "metadata": {},
   "outputs": [
    {
     "data": {
      "text/plain": [
       "<AxesSubplot:>"
      ]
     },
     "execution_count": 15,
     "metadata": {},
     "output_type": "execute_result"
    },
    {
     "data": {
      "image/png": "[encoded data removed]",
      "text/plain": [
       "<Figure size 432x288 with 1 Axes>"
      ]
     },
     "metadata": {
      "needs_background": "light"
     },
     "output_type": "display_data"
    }
   ],
   "source": [
    "df['MentalHealth'].hist(bins = 30, color = 'salmon')"
   ]
  },
  {
   "cell_type": "code",
   "execution_count": 16,
   "id": "a37489bc",
   "metadata": {},
   "outputs": [
    {
     "data": {
      "text/html": [
       "<style type=\"text/css\">\n",
       "#T_e8e98_row0_col0 {\n",
       "  width: 10em;\n",
       "  background: linear-gradient(90deg, thistle 100.0%, transparent 100.0%);\n",
       "}\n",
       "#T_e8e98_row1_col0 {\n",
       "  width: 10em;\n",
       "  background: linear-gradient(90deg, thistle 98.6%, transparent 98.6%);\n",
       "}\n",
       "#T_e8e98_row2_col0 {\n",
       "  width: 10em;\n",
       "  background: linear-gradient(90deg, thistle 91.0%, transparent 91.0%);\n",
       "}\n",
       "#T_e8e98_row3_col0 {\n",
       "  width: 10em;\n",
       "  background: linear-gradient(90deg, thistle 87.1%, transparent 87.1%);\n",
       "}\n",
       "#T_e8e98_row4_col0 {\n",
       "  width: 10em;\n",
       "  background: linear-gradient(90deg, thistle 74.3%, transparent 74.3%);\n",
       "}\n",
       "#T_e8e98_row5_col0 {\n",
       "  width: 10em;\n",
       "  background: linear-gradient(90deg, thistle 70.7%, transparent 70.7%);\n",
       "}\n",
       "#T_e8e98_row6_col0 {\n",
       "  width: 10em;\n",
       "  background: linear-gradient(90deg, thistle 63.8%, transparent 63.8%);\n",
       "}\n",
       "#T_e8e98_row7_col0 {\n",
       "  width: 10em;\n",
       "  background: linear-gradient(90deg, thistle 62.9%, transparent 62.9%);\n",
       "}\n",
       "#T_e8e98_row8_col0 {\n",
       "  width: 10em;\n",
       "  background: linear-gradient(90deg, thistle 61.7%, transparent 61.7%);\n",
       "}\n",
       "#T_e8e98_row9_col0 {\n",
       "  width: 10em;\n",
       "  background: linear-gradient(90deg, thistle 61.5%, transparent 61.5%);\n",
       "}\n",
       "#T_e8e98_row10_col0 {\n",
       "  width: 10em;\n",
       "  background: linear-gradient(90deg, thistle 60.2%, transparent 60.2%);\n",
       "}\n",
       "#T_e8e98_row11_col0 {\n",
       "  width: 10em;\n",
       "  background: linear-gradient(90deg, thistle 54.9%, transparent 54.9%);\n",
       "}\n",
       "#T_e8e98_row12_col0 {\n",
       "  width: 10em;\n",
       "  background: linear-gradient(90deg, thistle 49.6%, transparent 49.6%);\n",
       "}\n",
       "</style>\n",
       "<table id=\"T_e8e98\">\n",
       "  <thead>\n",
       "    <tr>\n",
       "      <th class=\"blank level0\" >&nbsp;</th>\n",
       "      <th id=\"T_e8e98_level0_col0\" class=\"col_heading level0 col0\" >AgeCategory</th>\n",
       "    </tr>\n",
       "  </thead>\n",
       "  <tbody>\n",
       "    <tr>\n",
       "      <th id=\"T_e8e98_level0_row0\" class=\"row_heading level0 row0\" >65-69</th>\n",
       "      <td id=\"T_e8e98_row0_col0\" class=\"data row0 col0\" >34151</td>\n",
       "    </tr>\n",
       "    <tr>\n",
       "      <th id=\"T_e8e98_level0_row1\" class=\"row_heading level0 row1\" >60-64</th>\n",
       "      <td id=\"T_e8e98_row1_col0\" class=\"data row1 col0\" >33686</td>\n",
       "    </tr>\n",
       "    <tr>\n",
       "      <th id=\"T_e8e98_level0_row2\" class=\"row_heading level0 row2\" >70-74</th>\n",
       "      <td id=\"T_e8e98_row2_col0\" class=\"data row2 col0\" >31065</td>\n",
       "    </tr>\n",
       "    <tr>\n",
       "      <th id=\"T_e8e98_level0_row3\" class=\"row_heading level0 row3\" >55-59</th>\n",
       "      <td id=\"T_e8e98_row3_col0\" class=\"data row3 col0\" >29757</td>\n",
       "    </tr>\n",
       "    <tr>\n",
       "      <th id=\"T_e8e98_level0_row4\" class=\"row_heading level0 row4\" >50-54</th>\n",
       "      <td id=\"T_e8e98_row4_col0\" class=\"data row4 col0\" >25382</td>\n",
       "    </tr>\n",
       "    <tr>\n",
       "      <th id=\"T_e8e98_level0_row5\" class=\"row_heading level0 row5\" >80 or older</th>\n",
       "      <td id=\"T_e8e98_row5_col0\" class=\"data row5 col0\" >24153</td>\n",
       "    </tr>\n",
       "    <tr>\n",
       "      <th id=\"T_e8e98_level0_row6\" class=\"row_heading level0 row6\" >45-49</th>\n",
       "      <td id=\"T_e8e98_row6_col0\" class=\"data row6 col0\" >21791</td>\n",
       "    </tr>\n",
       "    <tr>\n",
       "      <th id=\"T_e8e98_level0_row7\" class=\"row_heading level0 row7\" >75-79</th>\n",
       "      <td id=\"T_e8e98_row7_col0\" class=\"data row7 col0\" >21482</td>\n",
       "    </tr>\n",
       "    <tr>\n",
       "      <th id=\"T_e8e98_level0_row8\" class=\"row_heading level0 row8\" >18-24</th>\n",
       "      <td id=\"T_e8e98_row8_col0\" class=\"data row8 col0\" >21064</td>\n",
       "    </tr>\n",
       "    <tr>\n",
       "      <th id=\"T_e8e98_level0_row9\" class=\"row_heading level0 row9\" >40-44</th>\n",
       "      <td id=\"T_e8e98_row9_col0\" class=\"data row9 col0\" >21006</td>\n",
       "    </tr>\n",
       "    <tr>\n",
       "      <th id=\"T_e8e98_level0_row10\" class=\"row_heading level0 row10\" >35-39</th>\n",
       "      <td id=\"T_e8e98_row10_col0\" class=\"data row10 col0\" >20550</td>\n",
       "    </tr>\n",
       "    <tr>\n",
       "      <th id=\"T_e8e98_level0_row11\" class=\"row_heading level0 row11\" >30-34</th>\n",
       "      <td id=\"T_e8e98_row11_col0\" class=\"data row11 col0\" >18753</td>\n",
       "    </tr>\n",
       "    <tr>\n",
       "      <th id=\"T_e8e98_level0_row12\" class=\"row_heading level0 row12\" >25-29</th>\n",
       "      <td id=\"T_e8e98_row12_col0\" class=\"data row12 col0\" >16955</td>\n",
       "    </tr>\n",
       "  </tbody>\n",
       "</table>\n"
      ],
      "text/plain": [
       "<pandas.io.formats.style.Styler at 0x234798b64c0>"
      ]
     },
     "execution_count": 16,
     "metadata": {},
     "output_type": "execute_result"
    }
   ],
   "source": [
    "pd.DataFrame(df['AgeCategory'].value_counts()).style.bar(color='thistle')"
   ]
  },
  {
   "cell_type": "code",
   "execution_count": 17,
   "id": "9f10e8a1",
   "metadata": {},
   "outputs": [
    {
     "data": {
      "text/html": [
       "<style type=\"text/css\">\n",
       "#T_7e321_row0_col0 {\n",
       "  width: 10em;\n",
       "  background: linear-gradient(90deg, thistle 100.0%, transparent 100.0%);\n",
       "}\n",
       "#T_7e321_row1_col0 {\n",
       "  width: 10em;\n",
       "  background: linear-gradient(90deg, thistle 11.2%, transparent 11.2%);\n",
       "}\n",
       "#T_7e321_row2_col0 {\n",
       "  width: 10em;\n",
       "  background: linear-gradient(90deg, thistle 9.4%, transparent 9.4%);\n",
       "}\n",
       "#T_7e321_row3_col0 {\n",
       "  width: 10em;\n",
       "  background: linear-gradient(90deg, thistle 4.5%, transparent 4.5%);\n",
       "}\n",
       "#T_7e321_row4_col0 {\n",
       "  width: 10em;\n",
       "  background: linear-gradient(90deg, thistle 3.3%, transparent 3.3%);\n",
       "}\n",
       "#T_7e321_row5_col0 {\n",
       "  width: 10em;\n",
       "  background: linear-gradient(90deg, thistle 2.1%, transparent 2.1%);\n",
       "}\n",
       "</style>\n",
       "<table id=\"T_7e321\">\n",
       "  <thead>\n",
       "    <tr>\n",
       "      <th class=\"blank level0\" >&nbsp;</th>\n",
       "      <th id=\"T_7e321_level0_col0\" class=\"col_heading level0 col0\" >Race</th>\n",
       "    </tr>\n",
       "  </thead>\n",
       "  <tbody>\n",
       "    <tr>\n",
       "      <th id=\"T_7e321_level0_row0\" class=\"row_heading level0 row0\" >White</th>\n",
       "      <td id=\"T_7e321_row0_col0\" class=\"data row0 col0\" >245212</td>\n",
       "    </tr>\n",
       "    <tr>\n",
       "      <th id=\"T_7e321_level0_row1\" class=\"row_heading level0 row1\" >Hispanic</th>\n",
       "      <td id=\"T_7e321_row1_col0\" class=\"data row1 col0\" >27446</td>\n",
       "    </tr>\n",
       "    <tr>\n",
       "      <th id=\"T_7e321_level0_row2\" class=\"row_heading level0 row2\" >Black</th>\n",
       "      <td id=\"T_7e321_row2_col0\" class=\"data row2 col0\" >22939</td>\n",
       "    </tr>\n",
       "    <tr>\n",
       "      <th id=\"T_7e321_level0_row3\" class=\"row_heading level0 row3\" >Other</th>\n",
       "      <td id=\"T_7e321_row3_col0\" class=\"data row3 col0\" >10928</td>\n",
       "    </tr>\n",
       "    <tr>\n",
       "      <th id=\"T_7e321_level0_row4\" class=\"row_heading level0 row4\" >Asian</th>\n",
       "      <td id=\"T_7e321_row4_col0\" class=\"data row4 col0\" >8068</td>\n",
       "    </tr>\n",
       "    <tr>\n",
       "      <th id=\"T_7e321_level0_row5\" class=\"row_heading level0 row5\" >American Indian/Alaskan Native</th>\n",
       "      <td id=\"T_7e321_row5_col0\" class=\"data row5 col0\" >5202</td>\n",
       "    </tr>\n",
       "  </tbody>\n",
       "</table>\n"
      ],
      "text/plain": [
       "<pandas.io.formats.style.Styler at 0x23474591c70>"
      ]
     },
     "execution_count": 17,
     "metadata": {},
     "output_type": "execute_result"
    }
   ],
   "source": [
    "pd.DataFrame(df['Race'].value_counts()).style.bar(color='thistle')"
   ]
  },
  {
   "cell_type": "code",
   "execution_count": 18,
   "id": "bc73262a",
   "metadata": {},
   "outputs": [
    {
     "data": {
      "text/html": [
       "<style type=\"text/css\">\n",
       "#T_ed3fa_row0_col0 {\n",
       "  width: 10em;\n",
       "  background: linear-gradient(90deg, thistle 100.0%, transparent 100.0%);\n",
       "}\n",
       "#T_ed3fa_row1_col0 {\n",
       "  width: 10em;\n",
       "  background: linear-gradient(90deg, thistle 15.1%, transparent 15.1%);\n",
       "}\n",
       "#T_ed3fa_row2_col0 {\n",
       "  width: 10em;\n",
       "  background: linear-gradient(90deg, thistle 2.5%, transparent 2.5%);\n",
       "}\n",
       "#T_ed3fa_row3_col0 {\n",
       "  width: 10em;\n",
       "  background: linear-gradient(90deg, thistle 0.9%, transparent 0.9%);\n",
       "}\n",
       "</style>\n",
       "<table id=\"T_ed3fa\">\n",
       "  <thead>\n",
       "    <tr>\n",
       "      <th class=\"blank level0\" >&nbsp;</th>\n",
       "      <th id=\"T_ed3fa_level0_col0\" class=\"col_heading level0 col0\" >Diabetic</th>\n",
       "    </tr>\n",
       "  </thead>\n",
       "  <tbody>\n",
       "    <tr>\n",
       "      <th id=\"T_ed3fa_level0_row0\" class=\"row_heading level0 row0\" >No</th>\n",
       "      <td id=\"T_ed3fa_row0_col0\" class=\"data row0 col0\" >269653</td>\n",
       "    </tr>\n",
       "    <tr>\n",
       "      <th id=\"T_ed3fa_level0_row1\" class=\"row_heading level0 row1\" >Yes</th>\n",
       "      <td id=\"T_ed3fa_row1_col0\" class=\"data row1 col0\" >40802</td>\n",
       "    </tr>\n",
       "    <tr>\n",
       "      <th id=\"T_ed3fa_level0_row2\" class=\"row_heading level0 row2\" >No, borderline diabetes</th>\n",
       "      <td id=\"T_ed3fa_row2_col0\" class=\"data row2 col0\" >6781</td>\n",
       "    </tr>\n",
       "    <tr>\n",
       "      <th id=\"T_ed3fa_level0_row3\" class=\"row_heading level0 row3\" >Yes (during pregnancy)</th>\n",
       "      <td id=\"T_ed3fa_row3_col0\" class=\"data row3 col0\" >2559</td>\n",
       "    </tr>\n",
       "  </tbody>\n",
       "</table>\n"
      ],
      "text/plain": [
       "<pandas.io.formats.style.Styler at 0x23479c43a00>"
      ]
     },
     "execution_count": 18,
     "metadata": {},
     "output_type": "execute_result"
    }
   ],
   "source": [
    "pd.DataFrame(df['Diabetic'].value_counts()).style.bar(color='thistle')"
   ]
  },
  {
   "cell_type": "code",
   "execution_count": 19,
   "id": "1912806b",
   "metadata": {
    "scrolled": true
   },
   "outputs": [
    {
     "data": {
      "text/plain": [
       "<AxesSubplot:>"
      ]
     },
     "execution_count": 19,
     "metadata": {},
     "output_type": "execute_result"
    },
    {
     "data": {
      "image/png": "[encoded data removed]",
      "text/plain": [
       "<Figure size 432x288 with 2 Axes>"
      ]
     },
     "metadata": {
      "needs_background": "light"
     },
     "output_type": "display_data"
    }
   ],
   "source": [
    "#Relationship analysis\n",
    "sns.heatmap(df.corr(),cbar=True, annot=True, cmap='Blues')"
   ]
  },
  {
   "cell_type": "code",
   "execution_count": 20,
   "id": "e7ed0942",
   "metadata": {},
   "outputs": [
    {
     "data": {
      "text/html": [
       "<div>\n",
       "<style scoped>\n",
       "    .dataframe tbody tr th:only-of-type {\n",
       "        vertical-align: middle;\n",
       "    }\n",
       "\n",
       "    .dataframe tbody tr th {\n",
       "        vertical-align: top;\n",
       "    }\n",
       "\n",
       "    .dataframe thead th {\n",
       "        text-align: right;\n",
       "    }\n",
       "</style>\n",
       "<table border=\"1\" class=\"dataframe\">\n",
       "  <thead>\n",
       "    <tr style=\"text-align: right;\">\n",
       "      <th></th>\n",
       "      <th>HeartDisease</th>\n",
       "    </tr>\n",
       "  </thead>\n",
       "  <tbody>\n",
       "    <tr>\n",
       "      <th>0</th>\n",
       "      <td>0</td>\n",
       "    </tr>\n",
       "    <tr>\n",
       "      <th>1</th>\n",
       "      <td>0</td>\n",
       "    </tr>\n",
       "    <tr>\n",
       "      <th>2</th>\n",
       "      <td>0</td>\n",
       "    </tr>\n",
       "    <tr>\n",
       "      <th>3</th>\n",
       "      <td>0</td>\n",
       "    </tr>\n",
       "    <tr>\n",
       "      <th>4</th>\n",
       "      <td>0</td>\n",
       "    </tr>\n",
       "  </tbody>\n",
       "</table>\n",
       "</div>"
      ],
      "text/plain": [
       "   HeartDisease\n",
       "0             0\n",
       "1             0\n",
       "2             0\n",
       "3             0\n",
       "4             0"
      ]
     },
     "execution_count": 20,
     "metadata": {},
     "output_type": "execute_result"
    }
   ],
   "source": [
    "#Replace categorical with numerical\n",
    "df['HeartDisease'] = 1 * (df['HeartDisease'] == 'Yes')\n",
    "pd.DataFrame(df['HeartDisease'].head(5))"
   ]
  },
  {
   "cell_type": "code",
   "execution_count": 21,
   "id": "abbfcc57",
   "metadata": {
    "scrolled": false
   },
   "outputs": [
    {
     "data": {
      "image/png": "[encoded data removed]",
      "text/plain": [
       "<Figure size 1080x576 with 8 Axes>"
      ]
     },
     "metadata": {
      "needs_background": "light"
     },
     "output_type": "display_data"
    }
   ],
   "source": [
    "#Heart Disease (Yes) Proportion for each of the Yes/No for each Yes or No Columns\n",
    "fig, axes = plt.subplots(nrows=2, ncols=4, sharey = True, figsize = (15,8))\n",
    "plt.subplots_adjust(hspace = 0.5)\n",
    "\n",
    "for Column in Yes_No_Columns:\n",
    "    row_n= int((Yes_No_Columns.index(Column) - Yes_No_Columns.index(Column) % 4)/4)\n",
    "    column_n = Yes_No_Columns.index(Column) % 4\n",
    "    df.groupby(Column)['HeartDisease'].mean().plot(kind = 'bar', ax = axes[row_n,column_n], title = Column, color = 'lightblue')"
   ]
  },
  {
   "cell_type": "code",
   "execution_count": 22,
   "id": "0d6373da",
   "metadata": {},
   "outputs": [
    {
     "data": {
      "text/plain": [
       "<AxesSubplot:xlabel='Sex'>"
      ]
     },
     "execution_count": 22,
     "metadata": {},
     "output_type": "execute_result"
    },
    {
     "data": {
      "image/png": "[encoded data removed]",
      "text/plain": [
       "<Figure size 432x288 with 1 Axes>"
      ]
     },
     "metadata": {
      "needs_background": "light"
     },
     "output_type": "display_data"
    }
   ],
   "source": [
    "#Heart Disease (Yes) Proportion for each of the Sex values\n",
    "df.groupby('Sex')['HeartDisease'].mean().plot(kind = 'bar', color = 'tan')"
   ]
  },
  {
   "cell_type": "code",
   "execution_count": 23,
   "id": "44ca128a",
   "metadata": {
    "scrolled": true
   },
   "outputs": [
    {
     "data": {
      "text/plain": [
       "<AxesSubplot:xlabel='AgeCategory'>"
      ]
     },
     "execution_count": 23,
     "metadata": {},
     "output_type": "execute_result"
    },
    {
     "data": {
      "image/png": "[encoded data removed]",
      "text/plain": [
       "<Figure size 432x288 with 1 Axes>"
      ]
     },
     "metadata": {
      "needs_background": "light"
     },
     "output_type": "display_data"
    }
   ],
   "source": [
    "#Heart Disease (Yes) Proportion for each of the AgeCategory values\n",
    "df.groupby('AgeCategory')['HeartDisease'].mean().plot(kind = 'bar', color = 'thistle')"
   ]
  },
  {
   "cell_type": "code",
   "execution_count": 24,
   "id": "fb074d2f",
   "metadata": {},
   "outputs": [
    {
     "data": {
      "text/plain": [
       "<AxesSubplot:xlabel='Race'>"
      ]
     },
     "execution_count": 24,
     "metadata": {},
     "output_type": "execute_result"
    },
    {
     "data": {
      "image/png": "[encoded data removed]",
      "text/plain": [
       "<Figure size 432x288 with 1 Axes>"
      ]
     },
     "metadata": {
      "needs_background": "light"
     },
     "output_type": "display_data"
    }
   ],
   "source": [
    "#Heart Disease (Yes) Proportion for each of the Race values\n",
    "df.groupby('Race')['HeartDisease'].mean().plot(kind = 'bar', color = 'tan')"
   ]
  },
  {
   "cell_type": "code",
   "execution_count": 25,
   "id": "b4495758",
   "metadata": {},
   "outputs": [
    {
     "data": {
      "text/plain": [
       "<AxesSubplot:xlabel='Diabetic'>"
      ]
     },
     "execution_count": 25,
     "metadata": {},
     "output_type": "execute_result"
    },
    {
     "data": {
      "image/png": "[encoded data removed]",
      "text/plain": [
       "<Figure size 432x288 with 1 Axes>"
      ]
     },
     "metadata": {
      "needs_background": "light"
     },
     "output_type": "display_data"
    }
   ],
   "source": [
    "#Heart Disease (Yes) Proportion for each Diabetic values\n",
    "df.groupby('Diabetic')['HeartDisease'].mean().plot(kind = 'bar', color = 'thistle')"
   ]
  },
  {
   "cell_type": "code",
   "execution_count": 26,
   "id": "0bc361fb",
   "metadata": {},
   "outputs": [
    {
     "data": {
      "text/html": [
       "<div>\n",
       "<style scoped>\n",
       "    .dataframe tbody tr th:only-of-type {\n",
       "        vertical-align: middle;\n",
       "    }\n",
       "\n",
       "    .dataframe tbody tr th {\n",
       "        vertical-align: top;\n",
       "    }\n",
       "\n",
       "    .dataframe thead th {\n",
       "        text-align: right;\n",
       "    }\n",
       "</style>\n",
       "<table border=\"1\" class=\"dataframe\">\n",
       "  <thead>\n",
       "    <tr style=\"text-align: right;\">\n",
       "      <th></th>\n",
       "      <th>Weight Status</th>\n",
       "    </tr>\n",
       "  </thead>\n",
       "  <tbody>\n",
       "    <tr>\n",
       "      <th>Below 18.5</th>\n",
       "      <td>Underweight</td>\n",
       "    </tr>\n",
       "    <tr>\n",
       "      <th>18.5-24.9</th>\n",
       "      <td>Healthy Weight</td>\n",
       "    </tr>\n",
       "    <tr>\n",
       "      <th>25.0-29.9</th>\n",
       "      <td>Overweight</td>\n",
       "    </tr>\n",
       "    <tr>\n",
       "      <th>30.0 and Above</th>\n",
       "      <td>Obsesity</td>\n",
       "    </tr>\n",
       "  </tbody>\n",
       "</table>\n",
       "</div>"
      ],
      "text/plain": [
       "                 Weight Status\n",
       "Below 18.5         Underweight\n",
       "18.5-24.9       Healthy Weight\n",
       "25.0-29.9           Overweight\n",
       "30.0 and Above        Obsesity"
      ]
     },
     "execution_count": 26,
     "metadata": {},
     "output_type": "execute_result"
    }
   ],
   "source": [
    "#Assign a status for each BMI range\n",
    "pd.DataFrame(data = {'Weight Status' :['Underweight', 'Healthy Weight', 'Overweight', 'Obsesity']}, \n",
    "             index = ['Below 18.5', '18.5-24.9', '25.0-29.9', '30.0 and Above'])"
   ]
  },
  {
   "cell_type": "code",
   "execution_count": 27,
   "id": "232f08e0",
   "metadata": {},
   "outputs": [
    {
     "data": {
      "text/plain": [
       "<AxesSubplot:xlabel='BMI_1'>"
      ]
     },
     "execution_count": 27,
     "metadata": {},
     "output_type": "execute_result"
    },
    {
     "data": {
      "image/png": "[encoded data removed]",
      "text/plain": [
       "<Figure size 432x288 with 1 Axes>"
      ]
     },
     "metadata": {
      "needs_background": "light"
     },
     "output_type": "display_data"
    }
   ],
   "source": [
    "df['BMI_1'] = pd.cut(df['BMI'], [0,18.5,25.0,30.0,100], labels = ['Underweight', 'Healthy Weight', 'Overweight', 'Obsesity'], right = False)\n",
    "df.groupby('BMI_1')['HeartDisease'].mean().plot(kind = 'bar', color = 'pink')"
   ]
  },
  {
   "cell_type": "code",
   "execution_count": 28,
   "id": "165a9379",
   "metadata": {},
   "outputs": [],
   "source": [
    "#Ordinal Encoder\n",
    "from category_encoders import OrdinalEncoder\n",
    "\n",
    "#Replace categorical data in Sex column\n",
    "for Column in Yes_No_Columns:\n",
    "    df[Column] = 1 * (df[Column] == 'Yes')\n",
    "\n",
    "df['Sex'] = 1 * (df['Sex'] == 'Male')\n",
    "\n",
    "data=df\n",
    "#Ordinal columns\n",
    "data['BMI'] = pd.cut(data['BMI'], [0,18.5,25.0,30.0,40,50,100], labels = [0,1,2,3,4,5], right = False)\n",
    "\n",
    "data['PhysicalHealth'] = pd.cut(data['PhysicalHealth'], [0,1,10,20,30,31],labels = [0,1,2,3,4], right = False)\n",
    "\n",
    "data['MentalHealth'] = pd.cut(data['MentalHealth'], [0,1,10,20,30,31],labels = [0,1,2,3,4], right = False)\n",
    "\n",
    "data['SleepTime'] = pd.cut(data['SleepTime'], [1,5,6,10,25], labels =[0,1,2,3] , right = False)\n",
    "\n",
    "data = data.drop(['PhysicalHealth','MentalHealth','SleepTime','BMI'], axis = 1)\n",
    "\n",
    "mapping_1 = {}\n",
    "\n",
    "for category in sorted(list(data['AgeCategory'].unique())):\n",
    "    mapping_1[category] = sorted(list(data['AgeCategory'].unique())).index(category)\n",
    "\n",
    "maplist_1 = [{'col': 'AgeCategory', \n",
    "            'mapping': mapping_1}]\n",
    "\n",
    "Ordinal_Encoder_1 = OrdinalEncoder(mapping=maplist_1)\n",
    "\n",
    "data = Ordinal_Encoder_1.fit_transform(data)\n",
    "\n",
    "maplist_2 = [{'col': 'GenHealth', \n",
    "            'mapping': {'Poor': 0, 'Fair': 1, 'Good': 2, 'Very good': 3, 'Excellent': 4}}]\n",
    "\n",
    "Ordinal_Encoder_2 = OrdinalEncoder(mapping=maplist_2)\n",
    "\n",
    "data = Ordinal_Encoder_2.fit_transform(data)"
   ]
  },
  {
   "cell_type": "code",
   "execution_count": 29,
   "id": "61c14dc3",
   "metadata": {},
   "outputs": [
    {
     "data": {
      "text/html": [
       "<div>\n",
       "<style scoped>\n",
       "    .dataframe tbody tr th:only-of-type {\n",
       "        vertical-align: middle;\n",
       "    }\n",
       "\n",
       "    .dataframe tbody tr th {\n",
       "        vertical-align: top;\n",
       "    }\n",
       "\n",
       "    .dataframe thead th {\n",
       "        text-align: right;\n",
       "    }\n",
       "</style>\n",
       "<table border=\"1\" class=\"dataframe\">\n",
       "  <thead>\n",
       "    <tr style=\"text-align: right;\">\n",
       "      <th></th>\n",
       "      <th>HeartDisease</th>\n",
       "      <th>Smoking</th>\n",
       "      <th>AlcoholDrinking</th>\n",
       "      <th>Stroke</th>\n",
       "      <th>DiffWalking</th>\n",
       "      <th>Sex</th>\n",
       "      <th>AgeCategory</th>\n",
       "      <th>PhysicalActivity</th>\n",
       "      <th>GenHealth</th>\n",
       "      <th>Asthma</th>\n",
       "      <th>...</th>\n",
       "      <th>White</th>\n",
       "      <th>Black</th>\n",
       "      <th>Asian</th>\n",
       "      <th>American Indian/Alaskan Native</th>\n",
       "      <th>Other</th>\n",
       "      <th>Hispanic</th>\n",
       "      <th>Yes</th>\n",
       "      <th>No</th>\n",
       "      <th>No, borderline diabetes</th>\n",
       "      <th>Yes (during pregnancy)</th>\n",
       "    </tr>\n",
       "  </thead>\n",
       "  <tbody>\n",
       "    <tr>\n",
       "      <th>0</th>\n",
       "      <td>0</td>\n",
       "      <td>1</td>\n",
       "      <td>0</td>\n",
       "      <td>0</td>\n",
       "      <td>0</td>\n",
       "      <td>0</td>\n",
       "      <td>7</td>\n",
       "      <td>1</td>\n",
       "      <td>3</td>\n",
       "      <td>1</td>\n",
       "      <td>...</td>\n",
       "      <td>1</td>\n",
       "      <td>0</td>\n",
       "      <td>0</td>\n",
       "      <td>0</td>\n",
       "      <td>0</td>\n",
       "      <td>0</td>\n",
       "      <td>1</td>\n",
       "      <td>0</td>\n",
       "      <td>0</td>\n",
       "      <td>0</td>\n",
       "    </tr>\n",
       "    <tr>\n",
       "      <th>1</th>\n",
       "      <td>0</td>\n",
       "      <td>0</td>\n",
       "      <td>0</td>\n",
       "      <td>1</td>\n",
       "      <td>0</td>\n",
       "      <td>0</td>\n",
       "      <td>12</td>\n",
       "      <td>1</td>\n",
       "      <td>3</td>\n",
       "      <td>0</td>\n",
       "      <td>...</td>\n",
       "      <td>1</td>\n",
       "      <td>0</td>\n",
       "      <td>0</td>\n",
       "      <td>0</td>\n",
       "      <td>0</td>\n",
       "      <td>0</td>\n",
       "      <td>0</td>\n",
       "      <td>1</td>\n",
       "      <td>0</td>\n",
       "      <td>0</td>\n",
       "    </tr>\n",
       "    <tr>\n",
       "      <th>2</th>\n",
       "      <td>0</td>\n",
       "      <td>1</td>\n",
       "      <td>0</td>\n",
       "      <td>0</td>\n",
       "      <td>0</td>\n",
       "      <td>1</td>\n",
       "      <td>9</td>\n",
       "      <td>1</td>\n",
       "      <td>1</td>\n",
       "      <td>1</td>\n",
       "      <td>...</td>\n",
       "      <td>1</td>\n",
       "      <td>0</td>\n",
       "      <td>0</td>\n",
       "      <td>0</td>\n",
       "      <td>0</td>\n",
       "      <td>0</td>\n",
       "      <td>1</td>\n",
       "      <td>0</td>\n",
       "      <td>0</td>\n",
       "      <td>0</td>\n",
       "    </tr>\n",
       "    <tr>\n",
       "      <th>3</th>\n",
       "      <td>0</td>\n",
       "      <td>0</td>\n",
       "      <td>0</td>\n",
       "      <td>0</td>\n",
       "      <td>0</td>\n",
       "      <td>0</td>\n",
       "      <td>11</td>\n",
       "      <td>0</td>\n",
       "      <td>2</td>\n",
       "      <td>0</td>\n",
       "      <td>...</td>\n",
       "      <td>1</td>\n",
       "      <td>0</td>\n",
       "      <td>0</td>\n",
       "      <td>0</td>\n",
       "      <td>0</td>\n",
       "      <td>0</td>\n",
       "      <td>0</td>\n",
       "      <td>1</td>\n",
       "      <td>0</td>\n",
       "      <td>0</td>\n",
       "    </tr>\n",
       "    <tr>\n",
       "      <th>4</th>\n",
       "      <td>0</td>\n",
       "      <td>0</td>\n",
       "      <td>0</td>\n",
       "      <td>0</td>\n",
       "      <td>1</td>\n",
       "      <td>0</td>\n",
       "      <td>4</td>\n",
       "      <td>1</td>\n",
       "      <td>3</td>\n",
       "      <td>0</td>\n",
       "      <td>...</td>\n",
       "      <td>1</td>\n",
       "      <td>0</td>\n",
       "      <td>0</td>\n",
       "      <td>0</td>\n",
       "      <td>0</td>\n",
       "      <td>0</td>\n",
       "      <td>0</td>\n",
       "      <td>1</td>\n",
       "      <td>0</td>\n",
       "      <td>0</td>\n",
       "    </tr>\n",
       "    <tr>\n",
       "      <th>5</th>\n",
       "      <td>1</td>\n",
       "      <td>1</td>\n",
       "      <td>0</td>\n",
       "      <td>0</td>\n",
       "      <td>1</td>\n",
       "      <td>0</td>\n",
       "      <td>11</td>\n",
       "      <td>0</td>\n",
       "      <td>1</td>\n",
       "      <td>0</td>\n",
       "      <td>...</td>\n",
       "      <td>0</td>\n",
       "      <td>1</td>\n",
       "      <td>0</td>\n",
       "      <td>0</td>\n",
       "      <td>0</td>\n",
       "      <td>0</td>\n",
       "      <td>0</td>\n",
       "      <td>1</td>\n",
       "      <td>0</td>\n",
       "      <td>0</td>\n",
       "    </tr>\n",
       "    <tr>\n",
       "      <th>6</th>\n",
       "      <td>0</td>\n",
       "      <td>0</td>\n",
       "      <td>0</td>\n",
       "      <td>0</td>\n",
       "      <td>0</td>\n",
       "      <td>0</td>\n",
       "      <td>10</td>\n",
       "      <td>1</td>\n",
       "      <td>1</td>\n",
       "      <td>1</td>\n",
       "      <td>...</td>\n",
       "      <td>1</td>\n",
       "      <td>0</td>\n",
       "      <td>0</td>\n",
       "      <td>0</td>\n",
       "      <td>0</td>\n",
       "      <td>0</td>\n",
       "      <td>0</td>\n",
       "      <td>1</td>\n",
       "      <td>0</td>\n",
       "      <td>0</td>\n",
       "    </tr>\n",
       "    <tr>\n",
       "      <th>7</th>\n",
       "      <td>0</td>\n",
       "      <td>1</td>\n",
       "      <td>0</td>\n",
       "      <td>0</td>\n",
       "      <td>1</td>\n",
       "      <td>0</td>\n",
       "      <td>12</td>\n",
       "      <td>0</td>\n",
       "      <td>2</td>\n",
       "      <td>1</td>\n",
       "      <td>...</td>\n",
       "      <td>1</td>\n",
       "      <td>0</td>\n",
       "      <td>0</td>\n",
       "      <td>0</td>\n",
       "      <td>0</td>\n",
       "      <td>0</td>\n",
       "      <td>1</td>\n",
       "      <td>0</td>\n",
       "      <td>0</td>\n",
       "      <td>0</td>\n",
       "    </tr>\n",
       "    <tr>\n",
       "      <th>8</th>\n",
       "      <td>0</td>\n",
       "      <td>0</td>\n",
       "      <td>0</td>\n",
       "      <td>0</td>\n",
       "      <td>0</td>\n",
       "      <td>0</td>\n",
       "      <td>12</td>\n",
       "      <td>0</td>\n",
       "      <td>1</td>\n",
       "      <td>0</td>\n",
       "      <td>...</td>\n",
       "      <td>1</td>\n",
       "      <td>0</td>\n",
       "      <td>0</td>\n",
       "      <td>0</td>\n",
       "      <td>0</td>\n",
       "      <td>0</td>\n",
       "      <td>0</td>\n",
       "      <td>0</td>\n",
       "      <td>1</td>\n",
       "      <td>0</td>\n",
       "    </tr>\n",
       "    <tr>\n",
       "      <th>9</th>\n",
       "      <td>0</td>\n",
       "      <td>0</td>\n",
       "      <td>0</td>\n",
       "      <td>0</td>\n",
       "      <td>1</td>\n",
       "      <td>1</td>\n",
       "      <td>9</td>\n",
       "      <td>1</td>\n",
       "      <td>2</td>\n",
       "      <td>0</td>\n",
       "      <td>...</td>\n",
       "      <td>1</td>\n",
       "      <td>0</td>\n",
       "      <td>0</td>\n",
       "      <td>0</td>\n",
       "      <td>0</td>\n",
       "      <td>0</td>\n",
       "      <td>0</td>\n",
       "      <td>1</td>\n",
       "      <td>0</td>\n",
       "      <td>0</td>\n",
       "    </tr>\n",
       "  </tbody>\n",
       "</table>\n",
       "<p>10 rows × 23 columns</p>\n",
       "</div>"
      ],
      "text/plain": [
       "   HeartDisease  Smoking  AlcoholDrinking  Stroke  DiffWalking  Sex  \\\n",
       "0             0        1                0       0            0    0   \n",
       "1             0        0                0       1            0    0   \n",
       "2             0        1                0       0            0    1   \n",
       "3             0        0                0       0            0    0   \n",
       "4             0        0                0       0            1    0   \n",
       "5             1        1                0       0            1    0   \n",
       "6             0        0                0       0            0    0   \n",
       "7             0        1                0       0            1    0   \n",
       "8             0        0                0       0            0    0   \n",
       "9             0        0                0       0            1    1   \n",
       "\n",
       "   AgeCategory  PhysicalActivity  GenHealth  Asthma  ...  White  Black Asian  \\\n",
       "0            7                 1          3       1  ...      1      0     0   \n",
       "1           12                 1          3       0  ...      1      0     0   \n",
       "2            9                 1          1       1  ...      1      0     0   \n",
       "3           11                 0          2       0  ...      1      0     0   \n",
       "4            4                 1          3       0  ...      1      0     0   \n",
       "5           11                 0          1       0  ...      0      1     0   \n",
       "6           10                 1          1       1  ...      1      0     0   \n",
       "7           12                 0          2       1  ...      1      0     0   \n",
       "8           12                 0          1       0  ...      1      0     0   \n",
       "9            9                 1          2       0  ...      1      0     0   \n",
       "\n",
       "   American Indian/Alaskan Native  Other  Hispanic  Yes  No  \\\n",
       "0                               0      0         0    1   0   \n",
       "1                               0      0         0    0   1   \n",
       "2                               0      0         0    1   0   \n",
       "3                               0      0         0    0   1   \n",
       "4                               0      0         0    0   1   \n",
       "5                               0      0         0    0   1   \n",
       "6                               0      0         0    0   1   \n",
       "7                               0      0         0    1   0   \n",
       "8                               0      0         0    0   0   \n",
       "9                               0      0         0    0   1   \n",
       "\n",
       "   No, borderline diabetes  Yes (during pregnancy)  \n",
       "0                        0                       0  \n",
       "1                        0                       0  \n",
       "2                        0                       0  \n",
       "3                        0                       0  \n",
       "4                        0                       0  \n",
       "5                        0                       0  \n",
       "6                        0                       0  \n",
       "7                        0                       0  \n",
       "8                        1                       0  \n",
       "9                        0                       0  \n",
       "\n",
       "[10 rows x 23 columns]"
      ]
     },
     "execution_count": 29,
     "metadata": {},
     "output_type": "execute_result"
    }
   ],
   "source": [
    "#One Hot Encoding\n",
    "for Race in data['Race'].unique():\n",
    "    data[Race] = 1 * (data['Race'] == Race)\n",
    "\n",
    "for Diabetic in data['Diabetic'].unique():\n",
    "    data[Diabetic] = 1 * (data['Diabetic'] == Diabetic)   \n",
    "    \n",
    "data = data.drop(['Race','Diabetic'], axis = 1)\n",
    "data.head(10)"
   ]
  },
  {
   "cell_type": "code",
   "execution_count": null,
   "id": "89f4f8f3",
   "metadata": {},
   "outputs": [],
   "source": []
  }
 ],
 "metadata": {
  "kernelspec": {
   "display_name": "Python 3 (ipykernel)",
   "language": "python",
   "name": "python3"
  },
  "language_info": {
   "codemirror_mode": {
    "name": "ipython",
    "version": 3
   },
   "file_extension": ".py",
   "mimetype": "text/x-python",
   "name": "python",
   "nbconvert_exporter": "python",
   "pygments_lexer": "ipython3",
   "version": "3.9.5"
  }
 },
 "nbformat": 4,
 "nbformat_minor": 5
}
